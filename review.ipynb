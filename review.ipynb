{
 "cells": [
  {
   "cell_type": "markdown",
   "metadata": {},
   "source": [
    "# Review Disease Ontology Mappings to ImmPort\n",
    "\n",
    "The information used in this notebook as produced by using the NCBO Annotator to map ImmPort study information to Disease Ontology terms. The following fields from the Study data were submitted to NCBO Annotator: \n",
    "\n",
    "1. brief_title\n",
    "2. condition_studied\n",
    "3. description\n",
    "4. endpoints\n",
    "5. hypothesis\n",
    "\n",
    "The results from the NCBO Annotator API were parsed, and written to the annotation.txt file. The output columns are:\n",
    "\n",
    "1. Study_accession\n",
    "2. Field - this identifies which field from ImmPort was intergated\n",
    "3. DOID - Disease Ontology Identifier\n",
    "4. Name - DO name\n",
    "5. Match - word or phrase that matched DO\n",
    "6. Match Type - PREF or SYN"
   ]
  },
  {
   "cell_type": "code",
   "execution_count": 1,
   "metadata": {},
   "outputs": [],
   "source": [
    "import pandas as pd\n",
    "import qgrid\n",
    "import json\n",
    "import re\n",
    "\n",
    "from IPython.display import display, HTML\n",
    "import ipywidgets as widgets"
   ]
  },
  {
   "cell_type": "markdown",
   "metadata": {},
   "source": [
    "# Display Annotation Information"
   ]
  },
  {
   "cell_type": "code",
   "execution_count": 2,
   "metadata": {},
   "outputs": [
    {
     "data": {
      "application/vnd.jupyter.widget-view+json": {
       "model_id": "079c90a773054a3c8cad074e992b9bbc",
       "version_major": 2,
       "version_minor": 0
      },
      "text/plain": [
       "QgridWidget(grid_options={'fullWidthRows': True, 'syncColumnCellResize': True, 'forceFitColumns': True, 'defau…"
      ]
     },
     "metadata": {},
     "output_type": "display_data"
    }
   ],
   "source": [
    "annotation = pd.read_csv(\"./data/annotation.txt\", sep=\"\\t\")\n",
    "annotation_widget = qgrid.show_grid(annotation, show_toolbar=False)\n",
    "annotation_widget"
   ]
  },
  {
   "cell_type": "code",
   "execution_count": 3,
   "metadata": {},
   "outputs": [],
   "source": [
    "annotation_widget = qgrid.show_grid(annotation, show_toolbar=False)"
   ]
  },
  {
   "cell_type": "code",
   "execution_count": 4,
   "metadata": {},
   "outputs": [
    {
     "data": {
      "application/vnd.jupyter.widget-view+json": {
       "model_id": "d4f04dba56f8449699eb4d07279144aa",
       "version_major": 2,
       "version_minor": 0
      },
      "text/plain": [
       "QgridWidget(grid_options={'fullWidthRows': True, 'syncColumnCellResize': True, 'forceFitColumns': True, 'defau…"
      ]
     },
     "metadata": {},
     "output_type": "display_data"
    }
   ],
   "source": [
    "annotation_widget"
   ]
  },
  {
   "cell_type": "markdown",
   "metadata": {},
   "source": [
    "# Review Individual Studies"
   ]
  },
  {
   "cell_type": "code",
   "execution_count": 5,
   "metadata": {},
   "outputs": [],
   "source": [
    "def sortSDY(s):\n",
    "    return int(s.replace(\"SDY\", \"\"))\n",
    "\n",
    "studies = sorted(annotation['Study_accession'].unique(),key=sortSDY)"
   ]
  },
  {
   "cell_type": "code",
   "execution_count": 6,
   "metadata": {},
   "outputs": [],
   "source": [
    "study_dropdown = widgets.Dropdown(\n",
    "    options=studies,\n",
    "    value = studies[0],\n",
    "    description = \"Study: \",\n",
    "    layout={'height': '50px', 'width': '450px'})"
   ]
  },
  {
   "cell_type": "code",
   "execution_count": 7,
   "metadata": {},
   "outputs": [],
   "source": [
    "def filter_data(study_accession):\n",
    "    data = annotation[annotation['Study_accession']==study_accession]\n",
    "    return data.drop_duplicates()"
   ]
  },
  {
   "cell_type": "code",
   "execution_count": 8,
   "metadata": {},
   "outputs": [],
   "source": [
    "def display_filtered_results(data):\n",
    "    filtered_widget = qgrid.show_grid(data, show_toolbar=False)\n",
    "    return filtered_widget"
   ]
  },
  {
   "cell_type": "code",
   "execution_count": 9,
   "metadata": {},
   "outputs": [],
   "source": [
    "def load_study(study_accession):\n",
    "    file_name = \"./data/\" + study_accession + \".json\"\n",
    "    study = json.load(open(file_name, \"r\"))\n",
    "    return study"
   ]
  },
  {
   "cell_type": "code",
   "execution_count": null,
   "metadata": {},
   "outputs": [],
   "source": []
  },
  {
   "cell_type": "code",
   "execution_count": 10,
   "metadata": {},
   "outputs": [],
   "source": [
    "def replace_all(pattern, string):\n",
    "    occurences = re.findall(pattern, string, re.IGNORECASE)\n",
    "    for occurence in occurences:\n",
    "         string = string.replace(occurence, \"<span style='color: red'>\" + pattern + \"</span>\")\n",
    "        \n",
    "    return string\n",
    "\n",
    "\n",
    "def prepare_study(study, matches):\n",
    "    for match in matches:\n",
    "        study['brief_title'] = replace_all(match, study['brief_title'])\n",
    "        study['condition_studied'] = replace_all(match, study['condition_studied'])\n",
    "        study['description'] = replace_all(match, study['description'])\n",
    "        study['hypothesis'] = replace_all(match, study['hypothesis'])\n",
    "        study['endpoints'] = replace_all(match, study['endpoints'])\n",
    "                               \n",
    "    rows = []\n",
    "    rows.append(\"<h3>Study: \" + study['study_accession'])\n",
    "    rows.append(\"<br>\")\n",
    "    rows.append(\"<table style='border: 1px solid black; font-size: 14px'>\")\n",
    "    rows.append(\"<tr>\")\n",
    "    rows.append(\"<td style='valign: top; border: 1px solid black'>brief_title</td>\")\n",
    "    rows.append(\"<td style='valign: top; border: 1px solid black'>\" + study['brief_title'] + \"</td>\")\n",
    "    rows.append(\"</tr>\")\n",
    "    rows.append(\"<tr>\")\n",
    "    rows.append(\"<td style='valign: top; border: 1px solid black'>condition_studied</td>\")\n",
    "    rows.append(\"<td style='valign: top; border: 1px solid black'>\" + study['condition_studied'] + \"</td>\")\n",
    "    rows.append(\"</tr>\")\n",
    "    rows.append(\"<tr>\")\n",
    "    rows.append(\"<td style='valign: top; border: 1px solid black'>description</td>\")\n",
    "    rows.append(\"<td style='valign: top; border: 1px solid black'>\" + study['description'] + \"</td>\")\n",
    "    rows.append(\"</tr>\")\n",
    "    rows.append(\"<tr>\")\n",
    "    rows.append(\"<td style='valign: top; border: 1px solid black'>hypothesis</td>\")\n",
    "    rows.append(\"<td style='valign: top; border: 1px solid black'>\" + study['hypothesis'] + \"</td>\")\n",
    "    rows.append(\"</tr>\")\n",
    "    rows.append(\"<tr>\")\n",
    "    rows.append(\"<td style='valign: top; border: 1px solid black'>endpoints</td>\")\n",
    "    rows.append(\"<td style='valign: top; border: 1px solid black'>\" + study['endpoints'] + \"</td>\")\n",
    "    rows.append(\"</tr>\")\n",
    "    return \"\\n\".join(rows)"
   ]
  },
  {
   "cell_type": "markdown",
   "metadata": {},
   "source": [
    "# Constuct UI"
   ]
  },
  {
   "cell_type": "code",
   "execution_count": 11,
   "metadata": {},
   "outputs": [],
   "source": [
    "row1 = widgets.HBox([study_dropdown])\n",
    "out1 = widgets.Output(layout={'height': 'auto', 'width': 'auto'})\n",
    "#out2 = widgets.Output(layout={'height': 'auto', 'width': '800px'})\n",
    "out2 = widgets.HTML(layout={'height': 'auto', 'width': 'auto'})\n",
    "ui = widgets.VBox([row1, out1, out2], \n",
    "          layout={ 'height': 'auto', 'border': '2px solid blue', 'margin': '2px 2px 2px 2px'})"
   ]
  },
  {
   "cell_type": "code",
   "execution_count": 12,
   "metadata": {},
   "outputs": [],
   "source": [
    "def display_ui(event):\n",
    "    study_accession = study_dropdown.value\n",
    "    #out2.value=\"\"\n",
    "    data = filter_data(study_accession)\n",
    "    matches = data['Match'].unique()\n",
    "    #fw = display_filtered_results(data)\n",
    "    study = load_study(study_accession)\n",
    "    out1.clear_output()\n",
    "    #out2.value=\"\"\n",
    "    with out1:\n",
    "        display(data)\n",
    "    out2.value=prepare_study(study, matches)\n",
    "    #out2.clear_output()\n",
    "    #with out2:\n",
    "        #display(prepare_study(study))"
   ]
  },
  {
   "cell_type": "code",
   "execution_count": 13,
   "metadata": {},
   "outputs": [
    {
     "data": {
      "application/javascript": [
       "IPython.OutputArea.prototype._should_scroll = function(lines) {\n",
       "    return false;\n",
       "}\n"
      ],
      "text/plain": [
       "<IPython.core.display.Javascript object>"
      ]
     },
     "metadata": {},
     "output_type": "display_data"
    }
   ],
   "source": [
    "%%javascript\n",
    "IPython.OutputArea.prototype._should_scroll = function(lines) {\n",
    "    return false;\n",
    "}"
   ]
  },
  {
   "cell_type": "code",
   "execution_count": 14,
   "metadata": {},
   "outputs": [
    {
     "data": {
      "application/vnd.jupyter.widget-view+json": {
       "model_id": "7cb05cd7bca4403ea14e69503d33210d",
       "version_major": 2,
       "version_minor": 0
      },
      "text/plain": [
       "VBox(children=(HBox(children=(Dropdown(description='Study: ', layout=Layout(height='50px', width='450px'), opt…"
      ]
     },
     "metadata": {},
     "output_type": "display_data"
    }
   ],
   "source": [
    "study_dropdown.observe(display_ui)\n",
    "display_ui(None)\n",
    "ui"
   ]
  },
  {
   "cell_type": "code",
   "execution_count": null,
   "metadata": {},
   "outputs": [],
   "source": []
  },
  {
   "cell_type": "code",
   "execution_count": null,
   "metadata": {},
   "outputs": [],
   "source": []
  },
  {
   "cell_type": "code",
   "execution_count": null,
   "metadata": {},
   "outputs": [],
   "source": []
  }
 ],
 "metadata": {
  "kernelspec": {
   "display_name": "Python 3",
   "language": "python",
   "name": "python3"
  },
  "language_info": {
   "codemirror_mode": {
    "name": "ipython",
    "version": 3
   },
   "file_extension": ".py",
   "mimetype": "text/x-python",
   "name": "python",
   "nbconvert_exporter": "python",
   "pygments_lexer": "ipython3",
   "version": "3.7.3"
  },
  "toc": {
   "base_numbering": 1,
   "nav_menu": {},
   "number_sections": true,
   "sideBar": true,
   "skip_h1_title": false,
   "title_cell": "Table of Contents",
   "title_sidebar": "Contents",
   "toc_cell": false,
   "toc_position": {},
   "toc_section_display": true,
   "toc_window_display": false
  }
 },
 "nbformat": 4,
 "nbformat_minor": 4
}
